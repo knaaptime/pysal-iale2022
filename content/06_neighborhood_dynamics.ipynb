{
 "cells": [
  {
   "cell_type": "markdown",
   "id": "8f7fcda7-13cb-467f-bad4-bb6fa15a97c9",
   "metadata": {},
   "source": [
    "# Modeling Neighborhood Dynamics with `geosnap`"
   ]
  },
  {
   "cell_type": "markdown",
   "id": "34c582c1-5ff6-4d4c-b444-181c3f030a30",
   "metadata": {},
   "source": [
    "The geosnap package is designed for geodemographic analysis and regionalization applied to longitudinal data. Following those analyses, it also provides tools for modeling neighborhood composition into the future using spatial and temporal transition rules learned from the past."
   ]
  },
  {
   "cell_type": "code",
   "execution_count": null,
   "id": "8ae455b1-4d2b-4e0d-b8af-14e6aea17fd9",
   "metadata": {},
   "outputs": [],
   "source": [
    "from geosnap import DataStore\n",
    "from geosnap.io import get_acs\n",
    "from geosnap.analyze import cluster, regionalize"
   ]
  },
  {
   "cell_type": "code",
   "execution_count": null,
   "id": "448e2408-b4a9-42fb-a9b4-796ba3f86f38",
   "metadata": {},
   "outputs": [],
   "source": [
    "from geosnap.visualize import plot_timeseries, animate_timeseries"
   ]
  },
  {
   "cell_type": "markdown",
   "id": "2ce13726-cc7d-4739-a399-1add75c3c4c9",
   "metadata": {},
   "source": [
    "## Examining Data"
   ]
  },
  {
   "cell_type": "code",
   "execution_count": null,
   "id": "f986e461-2c14-4e7e-b7b4-384f2933fb0e",
   "metadata": {},
   "outputs": [],
   "source": [
    "store = DataStore()"
   ]
  },
  {
   "cell_type": "markdown",
   "id": "a4446823-6579-4595-a1e9-0700f5149c18",
   "metadata": {},
   "source": [
    "The DataStore class provides access to hundreds of neighbrohood indicators for the U.S. collected from federal agencies. We store these datasets in the cloud and stream them on demand. But if you plan on doing repeated analyses you can store the data locally (which we've already done on the JupyterHub)"
   ]
  },
  {
   "cell_type": "code",
   "execution_count": null,
   "id": "6b182bbb-f488-4780-8fca-7a124c4f25e8",
   "metadata": {},
   "outputs": [],
   "source": [
    "dir(store)"
   ]
  },
  {
   "cell_type": "code",
   "execution_count": null,
   "id": "0f2c61e9-7dcb-406d-9033-f7fd24878c09",
   "metadata": {},
   "outputs": [],
   "source": [
    "store.acs?"
   ]
  },
  {
   "cell_type": "markdown",
   "id": "bcb88834-e976-44a3-99ff-ffd947e63396",
   "metadata": {},
   "source": [
    "Each dataset in the datastore covers the entire country for a single time period. To generate a dataset for a single place, geosnap provides several convenience functions"
   ]
  },
  {
   "cell_type": "code",
   "execution_count": null,
   "id": "6a562339-92c6-4428-9956-dcb84f72f46d",
   "metadata": {
    "tags": []
   },
   "outputs": [],
   "source": [
    "chicago = get_acs(store, county_fips='17031', level='tract', years=list(range(2013, 2017)))  # without specifying a subset of years, we get everything"
   ]
  },
  {
   "cell_type": "code",
   "execution_count": null,
   "id": "a199bee6-a5c9-4044-90f2-562ff01728b3",
   "metadata": {
    "tags": []
   },
   "outputs": [],
   "source": [
    "chicago.info()"
   ]
  },
  {
   "cell_type": "code",
   "execution_count": null,
   "id": "ace26f04-eb16-4c4a-8315-443651e2a251",
   "metadata": {
    "tags": []
   },
   "outputs": [],
   "source": [
    "chicago.head()"
   ]
  },
  {
   "cell_type": "markdown",
   "id": "49c97b19-205a-4849-897e-dbd717525f13",
   "metadata": {},
   "source": [
    "There are also convenient plotting methods for looking at change over time. A useful feature here is that the choropleth bins are the same for each time period, making it easy to see change"
   ]
  },
  {
   "cell_type": "code",
   "execution_count": null,
   "id": "0705a313-5bde-4c21-ab11-e7ebd7920624",
   "metadata": {
    "tags": []
   },
   "outputs": [],
   "source": [
    "plot_timeseries(chicago, \"median_home_value\", scheme='quantiles', k=7, nrows=2, ncols=2, cmap='YlOrBr')"
   ]
  },
  {
   "cell_type": "markdown",
   "id": "137ecd43-2442-4bf1-b2ba-3739761e3e2c",
   "metadata": {
    "execution": {
     "iopub.execute_input": "2022-04-14T02:39:44.766069Z",
     "iopub.status.busy": "2022-04-14T02:39:44.764729Z",
     "iopub.status.idle": "2022-04-14T02:39:44.783154Z",
     "shell.execute_reply": "2022-04-14T02:39:44.782588Z",
     "shell.execute_reply.started": "2022-04-14T02:39:44.766025Z"
    }
   },
   "source": [
    "The animate_toimeseries function can make it easier to see what's happening"
   ]
  },
  {
   "cell_type": "code",
   "execution_count": null,
   "id": "7acabc44-0750-4790-8057-636131f956d2",
   "metadata": {
    "tags": []
   },
   "outputs": [],
   "source": [
    "animate_timeseries(chicago, 'median_home_value', scheme='quantiles', k=7, cmap='YlOrBr', filename='figs/chicago_income_change.gif', fps=1.5)"
   ]
  },
  {
   "cell_type": "code",
   "execution_count": null,
   "id": "ecd50593-1af8-40df-8fd5-7091e8b85066",
   "metadata": {},
   "outputs": [],
   "source": [
    "from IPython.display import Image"
   ]
  },
  {
   "cell_type": "code",
   "execution_count": null,
   "id": "276b1508-5a0a-487b-85de-c930fae0dd47",
   "metadata": {},
   "outputs": [],
   "source": [
    "Image(\"figs/chicago_income_change.gif\", width=800)"
   ]
  },
  {
   "cell_type": "markdown",
   "id": "74380d76-6444-41e3-a14a-6f7ac950f570",
   "metadata": {},
   "source": [
    "Note here that we're comparing overlapping samples from the ACS 5-year survey, which the Census Bureau recommends against. Here it just makes a good example :)"
   ]
  },
  {
   "cell_type": "markdown",
   "id": "c853ee5d-5f5f-404e-8a69-49b7bb5f262d",
   "metadata": {},
   "source": [
    "## Modeling Neighborhood Types"
   ]
  },
  {
   "cell_type": "markdown",
   "id": "4ae5e94a-00af-443e-9608-12ec80aa8ccc",
   "metadata": {},
   "source": [
    "With geosnap, it's possible to look at temporal geodemographics. Under the hood the package provides tools for scaling each dataset within its own time period and ensuring that times, variables, and geometries stay aligned"
   ]
  },
  {
   "cell_type": "code",
   "execution_count": null,
   "id": "54dc32bc-44c5-4dad-b5dd-d3e157afec7c",
   "metadata": {},
   "outputs": [],
   "source": [
    "columns = ['median_household_income', 'median_home_value', 'p_asian_persons', 'p_hispanic_persons', 'p_nonhisp_black_persons', 'p_nonhisp_white_persons']"
   ]
  },
  {
   "cell_type": "code",
   "execution_count": null,
   "id": "36b16667-08d5-4701-9c3d-fcff589bd1cf",
   "metadata": {
    "tags": []
   },
   "outputs": [],
   "source": [
    "chicago_ward = cluster(chicago, columns=columns, method='ward', n_clusters=6)"
   ]
  },
  {
   "cell_type": "markdown",
   "id": "017129bf-52ae-40a9-9dfc-a67d69be9564",
   "metadata": {},
   "source": [
    "The simplest version of the function returns the geodataframe with new cluster labels appended"
   ]
  },
  {
   "cell_type": "code",
   "execution_count": null,
   "id": "d4afdc6a-71ac-4923-9454-f60df425c777",
   "metadata": {},
   "outputs": [],
   "source": [
    "chicago_ward.head()"
   ]
  },
  {
   "cell_type": "code",
   "execution_count": null,
   "id": "c65dede9-a541-48e1-a55f-1a9343e1c831",
   "metadata": {
    "tags": []
   },
   "outputs": [],
   "source": [
    "plot_timeseries(chicago_ward, 'ward', categorical=True, nrows=2, ncols=2)"
   ]
  },
  {
   "cell_type": "code",
   "execution_count": null,
   "id": "6632934a-f076-4853-bce5-9d96347f16da",
   "metadata": {
    "tags": []
   },
   "outputs": [],
   "source": [
    "animate_timeseries(chicago_ward, 'ward', categorical=True, filename='figs/chicago_type_change.gif', fps=1.5)"
   ]
  },
  {
   "cell_type": "code",
   "execution_count": null,
   "id": "98931d99-6c72-4212-a921-c1e1d15d8616",
   "metadata": {},
   "outputs": [],
   "source": [
    "Image('figs/chicago_type_change.gif', width=800)"
   ]
  },
  {
   "cell_type": "markdown",
   "id": "86d8d49a-122c-4dc8-85bc-a2641a598236",
   "metadata": {},
   "source": [
    "If we add the argument `return_model=True`, then the function returns the same geodataframe as before, as well as a ModelResults class that holds additional disgnostics, plotting methods, and simulation functions"
   ]
  },
  {
   "cell_type": "code",
   "execution_count": null,
   "id": "e564eec6-346a-419b-a9fd-a2a1ca169e89",
   "metadata": {},
   "outputs": [],
   "source": [
    "chicago_ward, chi_model = cluster(chicago, columns=columns, method='ward', n_clusters=6, return_model=True)"
   ]
  },
  {
   "cell_type": "code",
   "execution_count": null,
   "id": "55788949-c830-4c93-b0ee-e00aa1c3fc9b",
   "metadata": {
    "tags": []
   },
   "outputs": [],
   "source": [
    "type(chi_model)"
   ]
  },
  {
   "cell_type": "markdown",
   "id": "a103b788-5b07-4f2a-ad85-87fb4c072b07",
   "metadata": {},
   "source": [
    "For example, the silhouette_scores attribute makes computing a silhouette coefficient for the cluster model a one-liner"
   ]
  },
  {
   "cell_type": "code",
   "execution_count": null,
   "id": "839e2d9f-49ec-4d73-93ab-e5496b45a0f1",
   "metadata": {},
   "outputs": [],
   "source": [
    "chi_model.silhouette_scores"
   ]
  },
  {
   "cell_type": "code",
   "execution_count": null,
   "id": "59dfbc23-75a1-4c25-b92a-51e5b0fb95c1",
   "metadata": {
    "tags": []
   },
   "outputs": [],
   "source": [
    "chi_model.silhouette_scores.silhouette_score.mean()"
   ]
  },
  {
   "cell_type": "markdown",
   "id": "e701a7fb-e1de-4a46-b8f6-748c95eaa8ca",
   "metadata": {},
   "source": [
    "Or we can look to see if some years have a poorer fit:"
   ]
  },
  {
   "cell_type": "code",
   "execution_count": null,
   "id": "b4c6727b-8c6d-42a9-b9cb-94e26d223492",
   "metadata": {
    "tags": []
   },
   "outputs": [],
   "source": [
    "chi_model.silhouette_scores.groupby('year').silhouette_score.mean().round(2)"
   ]
  },
  {
   "cell_type": "markdown",
   "id": "34626a6b-22f7-457b-9660-fd10b8690b43",
   "metadata": {},
   "source": [
    "## Analyzing Neighborhood Change"
   ]
  },
  {
   "cell_type": "markdown",
   "id": "e22af3ce-1814-4d99-a1a7-20d8e1b08f67",
   "metadata": {},
   "source": [
    "With the cluster model in hand, each census tract is represented as a series of neighborhood types over time (i.e. what we plotted above). To understand which neighborhoods have experienced the most change, the ModelResults class implements a method called \"LINCS\", the Local Indicator of Neighborhood Change"
   ]
  },
  {
   "cell_type": "code",
   "execution_count": null,
   "id": "e2c24cd2-99b5-4945-aaee-c5e828ecee36",
   "metadata": {},
   "outputs": [],
   "source": [
    "chi_model.lincs"
   ]
  },
  {
   "cell_type": "code",
   "execution_count": null,
   "id": "f17f3ea8-a1eb-400e-af30-47cee1d3b3be",
   "metadata": {
    "tags": []
   },
   "outputs": [],
   "source": [
    "chi_model.lincs.plot('linc', scheme='fisher_jenks', legend=True, cmap='plasma')"
   ]
  },
  {
   "cell_type": "markdown",
   "id": "31c4d4bd-8d46-428b-bb55-821bc2d8a536",
   "metadata": {},
   "source": [
    "Yellow places have changed the most in our cluster model. We can use the LISA statistics from `esda` to locate hotspots of change or stagnation"
   ]
  },
  {
   "cell_type": "code",
   "execution_count": null,
   "id": "5b7ca5e8-efd2-48e7-b81e-33551854a84b",
   "metadata": {},
   "outputs": [],
   "source": [
    "from esda import Moran_Local"
   ]
  },
  {
   "cell_type": "code",
   "execution_count": null,
   "id": "f015d595-d9d1-43de-9e9f-d618f1f61076",
   "metadata": {},
   "outputs": [],
   "source": [
    "from libpysal.weights import Queen"
   ]
  },
  {
   "cell_type": "code",
   "execution_count": null,
   "id": "13b98922-3d9f-497e-8e91-3c85695d4317",
   "metadata": {},
   "outputs": [],
   "source": [
    "w = Queen.from_dataframe(chi_model.lincs)"
   ]
  },
  {
   "cell_type": "code",
   "execution_count": null,
   "id": "dd26f745-cc4a-4d94-8e98-e243876bae4e",
   "metadata": {
    "tags": []
   },
   "outputs": [],
   "source": [
    "linc_lisa = Moran_Local(chi_model.lincs.linc, w)"
   ]
  },
  {
   "cell_type": "code",
   "execution_count": null,
   "id": "d7fd2924-bf5e-4703-9268-b415da6d36e1",
   "metadata": {
    "tags": []
   },
   "outputs": [],
   "source": [
    "linc_lisa.Is"
   ]
  },
  {
   "cell_type": "code",
   "execution_count": null,
   "id": "f95591a0-449f-4779-9b33-45576a8d63ac",
   "metadata": {
    "tags": []
   },
   "outputs": [],
   "source": [
    "chi_model.lincs.assign(i=linc_lisa.Is).plot('i', legend=True)"
   ]
  },
  {
   "cell_type": "code",
   "execution_count": null,
   "id": "9449f556-8e87-4539-b442-c0fb632a6872",
   "metadata": {},
   "outputs": [],
   "source": []
  },
  {
   "cell_type": "markdown",
   "id": "b2d179e2-8c19-4d90-8635-a6e26f660aa8",
   "metadata": {
    "execution": {
     "iopub.execute_input": "2022-04-14T03:26:26.571433Z",
     "iopub.status.busy": "2022-04-14T03:26:26.570683Z",
     "iopub.status.idle": "2022-04-14T03:26:26.586058Z",
     "shell.execute_reply": "2022-04-14T03:26:26.579525Z",
     "shell.execute_reply.started": "2022-04-14T03:26:26.571391Z"
    }
   },
   "source": [
    "## Modeling Neighborhood Transitions"
   ]
  },
  {
   "cell_type": "markdown",
   "id": "b2b67e71-eb4c-43cd-afe0-0398a1ad450b",
   "metadata": {},
   "source": [
    "We can also use the sequence of labels to develop a spatial Markov transition model. These models examine how often one neighborhood type transitions into another type--then how these transition rates change under different conditions of spatial context"
   ]
  },
  {
   "cell_type": "code",
   "execution_count": null,
   "id": "8afbb01e-b3ef-4c34-8190-302f1e87e159",
   "metadata": {},
   "outputs": [],
   "source": [
    "from geosnap.visualize import plot_transition_matrix"
   ]
  },
  {
   "cell_type": "code",
   "execution_count": null,
   "id": "fee81fb5-fa8b-49a5-ab9f-834a2c7fae8f",
   "metadata": {
    "tags": []
   },
   "outputs": [],
   "source": [
    "plot_transition_matrix(chicago_ward, cluster_col='ward')"
   ]
  },
  {
   "cell_type": "markdown",
   "id": "37271f74-ea60-4392-b7f2-1846df6d3bfd",
   "metadata": {},
   "source": [
    "And we can use those transition rates to make predictions about future conditions"
   ]
  },
  {
   "cell_type": "code",
   "execution_count": null,
   "id": "3cdef13b-fd4e-44af-b2b8-d3df49121fc9",
   "metadata": {
    "tags": []
   },
   "outputs": [],
   "source": [
    "future = chi_model.predict_markov_labels(time_steps=5, increment=1)"
   ]
  },
  {
   "cell_type": "code",
   "execution_count": null,
   "id": "93573833-800f-4421-8873-84b063c82046",
   "metadata": {
    "tags": []
   },
   "outputs": [],
   "source": [
    "animate_timeseries(future, 'predicted', categorical=True, filename='figs/chicago_predictions.gif', fps=1.5)"
   ]
  },
  {
   "cell_type": "code",
   "execution_count": null,
   "id": "f3cf2b05-7224-42ef-81ac-854f6349b621",
   "metadata": {
    "tags": []
   },
   "outputs": [],
   "source": [
    "Image('figs/chicago_predictions.gif', width=800)"
   ]
  },
  {
   "cell_type": "markdown",
   "id": "a4d23e40-8bf8-486d-a8e2-7bff1bbaffc7",
   "metadata": {},
   "source": [
    "From a social equity perspective, these predictions can help inform investments in place that are likely to provide the greatest return, such as providing place-based affordable houising in high-opportunity (but low likelihood of change) or by providing displacement protections in places that show large potential for change"
   ]
  },
  {
   "cell_type": "code",
   "execution_count": null,
   "id": "f0d637c9-0ad5-4137-9af0-10da7e6b3206",
   "metadata": {},
   "outputs": [],
   "source": []
  }
 ],
 "metadata": {
  "kernelspec": {
   "display_name": "Python [conda env:pysal-iale2022]",
   "language": "python",
   "name": "conda-env-pysal-iale2022-py"
  },
  "language_info": {
   "codemirror_mode": {
    "name": "ipython",
    "version": 3
   },
   "file_extension": ".py",
   "mimetype": "text/x-python",
   "name": "python",
   "nbconvert_exporter": "python",
   "pygments_lexer": "ipython3",
   "version": "3.9.12"
  },
  "widgets": {
   "application/vnd.jupyter.widget-state+json": {
    "state": {},
    "version_major": 2,
    "version_minor": 0
   }
  }
 },
 "nbformat": 4,
 "nbformat_minor": 5
}
